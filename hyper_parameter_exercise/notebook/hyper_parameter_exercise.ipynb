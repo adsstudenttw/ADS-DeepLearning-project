{
 "cells": [
  {
   "cell_type": "markdown",
   "metadata": {},
   "source": [
    "# Imports"
   ]
  },
  {
   "cell_type": "code",
   "execution_count": 6,
   "metadata": {},
   "outputs": [],
   "source": [
    "from pathlib import Path\n",
    "import torch\n",
    "from torch import nn\n",
    "from torch import optim\n",
    "from torchsummary import summary\n",
    "from mltrainer import metrics, Trainer, TrainerSettings, ReportTypes\n",
    "from mltrainer.preprocessors import BasePreprocessor\n",
    "import mlflow\n",
    "from hyperopt import fmin, tpe, hp, STATUS_OK, Trials\n",
    "from hyperopt.pyll import scope\n",
    "from mads_datasets import DatasetFactoryProvider, DatasetType\n",
    "from loguru import logger\n",
    "from datetime import datetime"
   ]
  },
  {
   "cell_type": "markdown",
   "metadata": {},
   "source": [
    "# Model"
   ]
  },
  {
   "cell_type": "code",
   "execution_count": 12,
   "metadata": {},
   "outputs": [
    {
     "name": "stdout",
     "output_type": "stream",
     "text": [
      "Model training takes place on the cpu\n"
     ]
    }
   ],
   "source": [
    "# Although this program will likely only run on the vm,\n",
    "# and the vm lacks gpu support, a gpu check is added in case the\n",
    "# program is run outside of the vm.\n",
    "\n",
    "device = \"gpu\" if torch.cuda.is_available() else \"cpu\"\n",
    "print(f\"Model training takes place on the {device}\")\n",
    "\n",
    "# Model definement\n",
    "class CNN(nn.Module):\n",
    "    def __init__(self, filters: int, units1: int, units2: int, input_size: tuple=(32, 1, 28, 28)):\n",
    "        super().__init__()\n",
    "\n",
    "        self.convolutional_layers = nn.Sequential(\n",
    "            nn.Conv2d(1, filters, kernel_size=3),\n",
    "            nn.ReLU(),\n",
    "            nn.MaxPool2d(kernel_size=2),\n",
    "            nn.Conv2d(filters, filters, kernel_size=3),\n",
    "            nn.ReLU(),\n",
    "            nn.MaxPool2d(kernel_size=2),\n",
    "            nn.Conv2d(filters, filters, kernel_size=3),\n",
    "            nn.ReLU(),\n",
    "            nn.MaxPool2d(kernel_size=2)\n",
    "        )\n",
    "\n",
    "        # In order to solve the potential problem of connecting the image layers\n",
    "        # with the linear layers, an AvgPool2d is added based on the size of the\n",
    "        # activationmap from the convolutional layers.\n",
    "        # Resulting in (batch, activationmaps, 1, 1) before flattening.\n",
    "        activaton_map_size = self.conv_test(input_size)\n",
    "        self.aggregated_layer = nn.AvgPool2d(activaton_map_size)\n",
    "\n",
    "        self.dense_layers = nn.Sequential(\n",
    "            nn.Flatten(),\n",
    "            nn.Linear(filters, units1),\n",
    "            nn.ReLU(),\n",
    "            nn.Linear(units1, units2),\n",
    "            nn.ReLU(),\n",
    "            nn.Linear(units2, 10)\n",
    "        )\n",
    "\n",
    "    def conv_test(self, input_size):\n",
    "        input_size_matrix = torch.ones(input_size)\n",
    "        conv_layers_output = self.convolutional_layers(input_size_matrix)\n",
    "        return conv_layers_output.shape[-2:]\n",
    "    \n",
    "    def forward(self, input):\n",
    "        conv_layers_output = self.convolutional_layers(input)\n",
    "        agg_layer_output = self.aggregated_layer(conv_layers_output)\n",
    "        dense_layers_output = self.dense_layers(agg_layer_output)\n",
    "        return dense_layers_output\n",
    "\n",
    "model = CNN(filters=32, units1=64, units2=32).to(device)"
   ]
  }
 ],
 "metadata": {
  "kernelspec": {
   "display_name": ".venv",
   "language": "python",
   "name": "python3"
  },
  "language_info": {
   "codemirror_mode": {
    "name": "ipython",
    "version": 3
   },
   "file_extension": ".py",
   "mimetype": "text/x-python",
   "name": "python",
   "nbconvert_exporter": "python",
   "pygments_lexer": "ipython3",
   "version": "3.11.5"
  }
 },
 "nbformat": 4,
 "nbformat_minor": 2
}
