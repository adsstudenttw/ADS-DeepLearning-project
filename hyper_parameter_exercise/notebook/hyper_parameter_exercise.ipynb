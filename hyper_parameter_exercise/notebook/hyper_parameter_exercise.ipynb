{
 "cells": [
  {
   "cell_type": "markdown",
   "metadata": {},
   "source": [
    "# Imports"
   ]
  },
  {
   "cell_type": "code",
   "execution_count": 2,
   "metadata": {},
   "outputs": [],
   "source": [
    "from pathlib import Path\n",
    "import torch\n",
    "from torch import nn\n",
    "from torch import optim\n",
    "from torchsummary import summary\n",
    "from mltrainer import metrics, Trainer, TrainerSettings, ReportTypes\n",
    "from mltrainer.preprocessors import BasePreprocessor\n",
    "import mlflow\n",
    "from hyperopt import fmin, tpe, hp, STATUS_OK, Trials\n",
    "from hyperopt.early_stop import no_progress_loss\n",
    "from hyperopt.pyll import scope\n",
    "from mads_datasets import DatasetFactoryProvider, DatasetType\n",
    "from loguru import logger\n",
    "from datetime import datetime\n",
    "import seaborn as sns\n",
    "import matplotlib.pyplot as plt\n",
    "import pandas as pd"
   ]
  },
  {
   "cell_type": "markdown",
   "metadata": {},
   "source": [
    "# Datastreamer"
   ]
  },
  {
   "cell_type": "code",
   "execution_count": 4,
   "metadata": {},
   "outputs": [
    {
     "name": "stderr",
     "output_type": "stream",
     "text": [
      "\u001b[32m2023-12-17 16:03:21.728\u001b[0m | \u001b[1mINFO    \u001b[0m | \u001b[36mmads_datasets.base\u001b[0m:\u001b[36mdownload_data\u001b[0m:\u001b[36m121\u001b[0m - \u001b[1mFolder already exists at /home/azureuser/.cache/mads_datasets/fashionmnist\u001b[0m\n",
      "\u001b[32m2023-12-17 16:03:21.730\u001b[0m | \u001b[1mINFO    \u001b[0m | \u001b[36mmads_datasets.base\u001b[0m:\u001b[36mdownload_data\u001b[0m:\u001b[36m124\u001b[0m - \u001b[1mFile already exists at /home/azureuser/.cache/mads_datasets/fashionmnist/fashionmnist.pt\u001b[0m\n"
     ]
    }
   ],
   "source": [
    "datafactory = DatasetFactoryProvider.create_factory(DatasetType.FASHION)\n",
    "batchsize = 64\n",
    "preprocessor = BasePreprocessor()\n",
    "streamers = datafactory.create_datastreamer(batchsize=batchsize, preprocessor=preprocessor)\n",
    "train = streamers[\"train\"]\n",
    "valid = streamers[\"valid\"]\n",
    "train_streamer = train.stream()\n",
    "valid_streamer = valid.stream()"
   ]
  },
  {
   "cell_type": "markdown",
   "metadata": {},
   "source": [
    "# Model"
   ]
  },
  {
   "cell_type": "code",
   "execution_count": 13,
   "metadata": {},
   "outputs": [
    {
     "name": "stdout",
     "output_type": "stream",
     "text": [
      "Model training takes place on the cpu\n"
     ]
    }
   ],
   "source": [
    "# Although this program will likely only run on the vm,\n",
    "# and the vm lacks gpu support, a gpu check is added in case the\n",
    "# program is ran outside of the vm.\n",
    "\n",
    "device = \"gpu\" if torch.cuda.is_available() else \"cpu\"\n",
    "print(f\"Model training takes place on the {device}\")\n",
    "\n",
    "\n",
    "class CNN(nn.Module):\n",
    "    def __init__(\n",
    "        self,\n",
    "        layers: int = 3,\n",
    "        units: int = 56,\n",
    "        filters: int = 32,\n",
    "        normalization: bool = False,\n",
    "        dropout: float = 0.0,\n",
    "        input_size: tuple = (32, 1, 28, 28),\n",
    "    ):\n",
    "        super().__init__()\n",
    "\n",
    "        self.convolutional_blocks = nn.ModuleList()\n",
    "        for i in range(0, layers):\n",
    "            first = i == 0\n",
    "            self.convolutional_blocks.append(\n",
    "                self._generate_convolutional_layer(filters=filters, normalization=normalization, first=first)\n",
    "            )\n",
    "\n",
    "        # In order to solve the potential problem of connecting the image layers\n",
    "        # with the linear layers, an AvgPool2d is added based on the size of the\n",
    "        # activationmap from the convolutional layers.\n",
    "        # Resulting in (batch, activationmaps, 1, 1) before flattening.\n",
    "        activaton_map_size = self._conv_test(input_size)\n",
    "        self.aggregated_layer = nn.AvgPool2d(activaton_map_size)\n",
    "\n",
    "        self.linear_blocks = nn.ModuleList()\n",
    "        for i in range(0, layers):\n",
    "            first = i == 0\n",
    "            last = i == (layers - 1)\n",
    "            self.linear_blocks.append(\n",
    "                self._generate_linear_layers(\n",
    "                    filters=filters,\n",
    "                    units=units,\n",
    "                    dropout=dropout,\n",
    "                    normalization=normalization,\n",
    "                    first=first,\n",
    "                    last=last,\n",
    "                )\n",
    "            )\n",
    "\n",
    "    def _generate_convolutional_layer(\n",
    "        self,\n",
    "        filters: int, normalization: bool = False, first: bool = False\n",
    "    ) -> nn.Sequential:\n",
    "        in_channels = 1 if first else filters\n",
    "        layers = []\n",
    "        layers.append(nn.Conv2d(in_channels, filters, kernel_size=3))\n",
    "        layers.append(nn.BatchNorm2d(filters)) if normalization else None\n",
    "        layers.append(nn.ReLU())\n",
    "        layers.append(nn.MaxPool2d(kernel_size=2))\n",
    "        return nn.Sequential(*layers)\n",
    "\n",
    "    def _conv_test(self, input_size):\n",
    "        x = torch.ones(input_size)\n",
    "        for block in self.convolutional_blocks:\n",
    "            x = block(x)\n",
    "        return x.shape[-2:]\n",
    "\n",
    "    def _generate_linear_layers(\n",
    "        self,\n",
    "        filters: int,\n",
    "        units: int,\n",
    "        dropout: float = 0.0,\n",
    "        normalization: bool = False,\n",
    "        first: bool = False,\n",
    "        last: bool = False,\n",
    "    ) -> nn.Sequential:\n",
    "        in_features = filters if first else units\n",
    "        out_features = 10 if last else units\n",
    "        layers = []\n",
    "        layers.append(nn.Flatten()) if first else None\n",
    "        layers.append(nn.Dropout1d(dropout)) if dropout != 0.0 and last else None\n",
    "        layers.append(nn.Linear(in_features, out_features))\n",
    "        layers.append(nn.BatchNorm1d(units)) if normalization and not last else None\n",
    "        layers.append(nn.ReLU()) if not last else None\n",
    "        return nn.Sequential(*layers)\n",
    "\n",
    "    def forward(self, x):\n",
    "        for block in self.convolutional_blocks:\n",
    "            x = block(x)\n",
    "        x = self.aggregated_layer(x)\n",
    "        for block in self.linear_blocks:\n",
    "            x = block(x)\n",
    "        return x\n",
    "\n",
    "\n",
    "model = CNN(layers=2, filters=32, units=32, dropout=0.2).to(device)\n"
   ]
  },
  {
   "cell_type": "code",
   "execution_count": 14,
   "metadata": {},
   "outputs": [
    {
     "name": "stdout",
     "output_type": "stream",
     "text": [
      "----------------------------------------------------------------\n",
      "        Layer (type)               Output Shape         Param #\n",
      "================================================================\n",
      "            Conv2d-1           [-1, 32, 26, 26]             320\n",
      "              ReLU-2           [-1, 32, 26, 26]               0\n",
      "         MaxPool2d-3           [-1, 32, 13, 13]               0\n",
      "            Conv2d-4           [-1, 32, 11, 11]           9,248\n",
      "              ReLU-5           [-1, 32, 11, 11]               0\n",
      "         MaxPool2d-6             [-1, 32, 5, 5]               0\n",
      "         AvgPool2d-7             [-1, 32, 1, 1]               0\n",
      "           Flatten-8                   [-1, 32]               0\n",
      "            Linear-9                   [-1, 32]           1,056\n",
      "             ReLU-10                   [-1, 32]               0\n",
      "        Dropout1d-11                   [-1, 32]               0\n",
      "           Linear-12                   [-1, 10]             330\n",
      "================================================================\n",
      "Total params: 10,954\n",
      "Trainable params: 10,954\n",
      "Non-trainable params: 0\n",
      "----------------------------------------------------------------\n",
      "Input size (MB): 0.00\n",
      "Forward/backward pass size (MB): 0.44\n",
      "Params size (MB): 0.04\n",
      "Estimated Total Size (MB): 0.48\n",
      "----------------------------------------------------------------\n"
     ]
    }
   ],
   "source": [
    "summary(model, input_size=(1, 28, 28))"
   ]
  },
  {
   "cell_type": "markdown",
   "metadata": {},
   "source": [
    "# Optimizer, loss & accuracy"
   ]
  },
  {
   "cell_type": "code",
   "execution_count": 7,
   "metadata": {},
   "outputs": [],
   "source": [
    "optimizer = optim.Adam\n",
    "loss_function = torch.nn.CrossEntropyLoss()\n",
    "accuracy = metrics.Accuracy()"
   ]
  },
  {
   "cell_type": "markdown",
   "metadata": {},
   "source": [
    "# MLflow"
   ]
  },
  {
   "cell_type": "code",
   "execution_count": 44,
   "metadata": {},
   "outputs": [
    {
     "data": {
      "text/plain": [
       "<Experiment: artifact_location='/home/azureuser/code/ADS-DeepLearning-project/hyper_parameter_exercise/notebook/mlruns/3', creation_time=1702823037046, experiment_id='3', last_update_time=1702823037046, lifecycle_stage='active', name='MNIST_CNN', tags={}>"
      ]
     },
     "execution_count": 44,
     "metadata": {},
     "output_type": "execute_result"
    }
   ],
   "source": [
    "experiment_path = \"MNIST_CNN\"\n",
    "mlflow.set_tracking_uri(\"sqlite:///mlflow.db\")\n",
    "mlflow.set_experiment(experiment_path)"
   ]
  },
  {
   "cell_type": "code",
   "execution_count": 9,
   "metadata": {},
   "outputs": [],
   "source": [
    "model_directory = Path(\"../../models/mnist\").resolve()\n",
    "if not model_directory.exists():\n",
    "    model_directory.mkdir(parents=True)\n",
    "    print(f\"Created {model_directory}\")"
   ]
  },
  {
   "cell_type": "code",
   "execution_count": 10,
   "metadata": {},
   "outputs": [],
   "source": [
    "trainer_settings = TrainerSettings(\n",
    "    epochs=3,\n",
    "    metrics=[accuracy],\n",
    "    logdir=\"modellog\",\n",
    "    train_steps=len(train),\n",
    "    valid_steps=len(valid),\n",
    "    reporttypes=[ReportTypes.MLFLOW]\n",
    ")\n",
    "\n",
    "def objective(params):\n",
    "    with mlflow.start_run():\n",
    "        mlflow.set_tag(\"model\", \"convolutional_network\")\n",
    "        mlflow.set_tag(\"dev\", \"tom\")\n",
    "        mlflow.log_params(params)\n",
    "        mlflow.log_param(\"batchsize\", f\"{batchsize}\")\n",
    "\n",
    "        model = CNN(**params)\n",
    "        trainer = Trainer(\n",
    "            model=model,\n",
    "            settings=trainer_settings,\n",
    "            loss_fn=loss_function,\n",
    "            optimizer=optimizer,\n",
    "            traindataloader=train_streamer,\n",
    "            validdataloader=valid_streamer,\n",
    "            scheduler=optim.lr_scheduler.ReduceLROnPlateau\n",
    "        )\n",
    "        trainer.loop()\n",
    "\n",
    "        tag = datetime.now().strftime(\"%Y%m%d-%H%M\")\n",
    "        model_path = model_directory / (tag + \"model.pt\")\n",
    "        torch.save(model, model_path)\n",
    "\n",
    "        mlflow.log_artifact(local_path=model_path, artifact_path=\"pytorch_models\")\n",
    "        \n",
    "        return {\"loss\": trainer.test_loss, \"status\": STATUS_OK}"
   ]
  },
  {
   "cell_type": "code",
   "execution_count": 11,
   "metadata": {},
   "outputs": [],
   "source": [
    "search_space = {\n",
    "    \"layers\": scope.int(hp.quniform(\"layers\", 2, 3, 1)),\n",
    "    \"units\": scope.int(hp.quniform(\"units\", 32, 64, 8)),\n",
    "}"
   ]
  },
  {
   "cell_type": "code",
   "execution_count": 20,
   "metadata": {},
   "outputs": [],
   "source": [
    "search_space = {\n",
    "    \"filters\": scope.int(hp.quniform(\"filters\", 32, 128, 8)),\n",
    "    \"normalization\": scope.int(hp.choice(\"normalization\", [True, False])),\n",
    "}"
   ]
  },
  {
   "cell_type": "code",
   "execution_count": null,
   "metadata": {},
   "outputs": [],
   "source": [
    "best_result = fmin(\n",
    "    fn=objective,\n",
    "    space=search_space,\n",
    "    algo=tpe.suggest,\n",
    "    max_evals=100,\n",
    "    trials=Trials(),\n",
    "    early_stop_fn=no_progress_loss(10)\n",
    ")"
   ]
  },
  {
   "cell_type": "code",
   "execution_count": 22,
   "metadata": {},
   "outputs": [
    {
     "data": {
      "text/plain": [
       "{'filters': 104.0, 'normalization': 0}"
      ]
     },
     "execution_count": 22,
     "metadata": {},
     "output_type": "execute_result"
    }
   ],
   "source": [
    "best_result"
   ]
  },
  {
   "cell_type": "code",
   "execution_count": 12,
   "metadata": {},
   "outputs": [
    {
     "data": {
      "image/png": "[encoded data removed]",
      "text/plain": [
       "<Figure size 640x480 with 2 Axes>"
      ]
     },
     "metadata": {},
     "output_type": "display_data"
    }
   ],
   "source": [
    "def read_mlflow_data(experiment_name):\n",
    "    runs = mlflow.search_runs(experiment_ids=[experiment_name])\n",
    "    return runs\n",
    "\n",
    "mlflow_data = read_mlflow_data('3')\n",
    "\n",
    "def create_heatmap_data(mlflow_data):\n",
    "    heatmap_data = mlflow_data[['params.layers', 'params.units', 'metrics.Loss/test']]\n",
    "    # Returns unique layers and units combinations whose loss value is lowest.\n",
    "    heatmap_data = heatmap_data.loc[heatmap_data.groupby(['params.layers', 'params.units'])['metrics.Loss/test'].idxmin()]\n",
    "    return heatmap_data\n",
    "\n",
    "def plot_heatmap(heatmap_data):\n",
    "    heatmap_pivot = heatmap_data.pivot(index='params.layers', columns='params.units', values='metrics.Loss/test')\n",
    "    sns.heatmap(heatmap_pivot, annot=True, fmt=\".4f\", cmap=\"YlGnBu\")\n",
    "    plt.xlabel('Units')\n",
    "    plt.ylabel('Layers')\n",
    "    plt.title('Test loss as a function of Layers vs Units')\n",
    "    plt.show()\n",
    "\n",
    "heatmap_data = create_heatmap_data(mlflow_data)\n",
    "plot_heatmap(heatmap_data)"
   ]
  },
  {
   "cell_type": "code",
   "execution_count": 56,
   "metadata": {},
   "outputs": [
    {
     "data": {
      "image/png": "[encoded data removed]",
      "text/plain": [
       "<Figure size 640x480 with 2 Axes>"
      ]
     },
     "metadata": {},
     "output_type": "display_data"
    },
    {
     "data": {
      "text/html": [
       "<div>\n",
       "<style scoped>\n",
       "    .dataframe tbody tr th:only-of-type {\n",
       "        vertical-align: middle;\n",
       "    }\n",
       "\n",
       "    .dataframe tbody tr th {\n",
       "        vertical-align: top;\n",
       "    }\n",
       "\n",
       "    .dataframe thead th {\n",
       "        text-align: right;\n",
       "    }\n",
       "</style>\n",
       "<table border=\"1\" class=\"dataframe\">\n",
       "  <thead>\n",
       "    <tr style=\"text-align: right;\">\n",
       "      <th></th>\n",
       "      <th>params.filters</th>\n",
       "      <th>params.normalization</th>\n",
       "      <th>metrics.Loss/test</th>\n",
       "    </tr>\n",
       "  </thead>\n",
       "  <tbody>\n",
       "    <tr>\n",
       "      <th>7</th>\n",
       "      <td>104</td>\n",
       "      <td>0</td>\n",
       "      <td>0.365175</td>\n",
       "    </tr>\n",
       "    <tr>\n",
       "      <th>10</th>\n",
       "      <td>104</td>\n",
       "      <td>1</td>\n",
       "      <td>0.293771</td>\n",
       "    </tr>\n",
       "    <tr>\n",
       "      <th>12</th>\n",
       "      <td>120</td>\n",
       "      <td>0</td>\n",
       "      <td>0.399406</td>\n",
       "    </tr>\n",
       "    <tr>\n",
       "      <th>1</th>\n",
       "      <td>120</td>\n",
       "      <td>1</td>\n",
       "      <td>0.327784</td>\n",
       "    </tr>\n",
       "    <tr>\n",
       "      <th>4</th>\n",
       "      <td>128</td>\n",
       "      <td>0</td>\n",
       "      <td>0.395012</td>\n",
       "    </tr>\n",
       "    <tr>\n",
       "      <th>6</th>\n",
       "      <td>32</td>\n",
       "      <td>0</td>\n",
       "      <td>0.488657</td>\n",
       "    </tr>\n",
       "    <tr>\n",
       "      <th>11</th>\n",
       "      <td>48</td>\n",
       "      <td>1</td>\n",
       "      <td>0.319097</td>\n",
       "    </tr>\n",
       "    <tr>\n",
       "      <th>5</th>\n",
       "      <td>56</td>\n",
       "      <td>0</td>\n",
       "      <td>0.401409</td>\n",
       "    </tr>\n",
       "    <tr>\n",
       "      <th>9</th>\n",
       "      <td>72</td>\n",
       "      <td>1</td>\n",
       "      <td>0.311332</td>\n",
       "    </tr>\n",
       "    <tr>\n",
       "      <th>8</th>\n",
       "      <td>80</td>\n",
       "      <td>0</td>\n",
       "      <td>0.421370</td>\n",
       "    </tr>\n",
       "    <tr>\n",
       "      <th>0</th>\n",
       "      <td>88</td>\n",
       "      <td>1</td>\n",
       "      <td>0.315128</td>\n",
       "    </tr>\n",
       "  </tbody>\n",
       "</table>\n",
       "</div>"
      ],
      "text/plain": [
       "   params.filters params.normalization  metrics.Loss/test\n",
       "7             104                    0           0.365175\n",
       "10            104                    1           0.293771\n",
       "12            120                    0           0.399406\n",
       "1             120                    1           0.327784\n",
       "4             128                    0           0.395012\n",
       "6              32                    0           0.488657\n",
       "11             48                    1           0.319097\n",
       "5              56                    0           0.401409\n",
       "9              72                    1           0.311332\n",
       "8              80                    0           0.421370\n",
       "0              88                    1           0.315128"
      ]
     },
     "execution_count": 56,
     "metadata": {},
     "output_type": "execute_result"
    }
   ],
   "source": [
    "def read_mlflow_data(experiment_name):\n",
    "    runs = mlflow.search_runs(experiment_ids=[experiment_name])\n",
    "    return runs\n",
    "\n",
    "mlflow_data = read_mlflow_data('3')\n",
    "\n",
    "def create_heatmap_data(mlflow_data):\n",
    "    heatmap_data = mlflow_data[['params.filters', 'params.normalization', 'metrics.Loss/test']]\n",
    "    # Returns unique layers and units combinations whose loss value is lowest.\n",
    "    heatmap_data = heatmap_data.dropna(subset=['params.filters', 'params.normalization'])\n",
    "    heatmap_data = heatmap_data.loc[heatmap_data.groupby(['params.filters', 'params.normalization'])['metrics.Loss/test'].idxmin()]\n",
    "    return heatmap_data\n",
    "\n",
    "def plot_heatmap(heatmap_data):\n",
    "    heatmap_pivot = heatmap_data.pivot(index='params.filters', columns='params.normalization', values='metrics.Loss/test')\n",
    "    sns.heatmap(heatmap_pivot, annot=True, fmt=\".4f\", cmap=\"YlGnBu\")\n",
    "    plt.xlabel('Normalization')\n",
    "    plt.ylabel('Filters')\n",
    "    plt.title('Test loss as a function of Normalization vs Filters')\n",
    "    plt.show()\n",
    "\n",
    "heatmap_data = create_heatmap_data(mlflow_data)\n",
    "plot_heatmap(heatmap_data)\n",
    "heatmap_data"
   ]
  },
  {
   "cell_type": "code",
   "execution_count": null,
   "metadata": {},
   "outputs": [],
   "source": [
    "def read_mlflow_data(experiment_name):\n",
    "    runs = mlflow.search_runs(experiment_ids=[experiment_name])\n",
    "    return runs\n",
    "\n",
    "mlflow_data = read_mlflow_data('3')\n",
    "\n",
    "def create_heatmap_data(mlflow_data):\n",
    "    heatmap_data = mlflow_data[['params.filters', 'params.normalization', 'metrics.Loss/test']]\n",
    "    # Returns unique layers and units combinations whose loss value is lowest.\n",
    "    heatmap_data = heatmap_data.dropna(subset=['params.filters', 'params.normalization'])\n",
    "    heatmap_data = heatmap_data.drop(index=heatmap_data[])\n",
    "    return heatmap_data\n",
    "\n",
    "heatmap_data = create_heatmap_data(mlflow_data)\n",
    "heatmap_data"
   ]
  }
 ],
 "metadata": {
  "kernelspec": {
   "display_name": ".venv",
   "language": "python",
   "name": "python3"
  },
  "language_info": {
   "codemirror_mode": {
    "name": "ipython",
    "version": 3
   },
   "file_extension": ".py",
   "mimetype": "text/x-python",
   "name": "python",
   "nbconvert_exporter": "python",
   "pygments_lexer": "ipython3",
   "version": "3.11.5"
  }
 },
 "nbformat": 4,
 "nbformat_minor": 2
}
