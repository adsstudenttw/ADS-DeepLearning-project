{
 "cells": [
  {
   "cell_type": "markdown",
   "metadata": {},
   "source": [
    "# Imports"
   ]
  },
  {
   "cell_type": "code",
   "execution_count": 1,
   "metadata": {},
   "outputs": [],
   "source": [
    "from pathlib import Path\n",
    "import torch\n",
    "from torch import nn\n",
    "from torch import optim\n",
    "from mltrainer import metrics, Trainer, TrainerSettings, ReportTypes\n",
    "from mltrainer.preprocessors import BasePreprocessor\n",
    "import mlflow\n",
    "from hyperopt import fmin, tpe, hp, STATUS_OK, Trials\n",
    "from hyperopt.pyll import scope\n",
    "from mads_datasets import DatasetFactoryProvider, DatasetType\n",
    "from loguru import logger\n",
    "from datetime import datetime\n",
    "import seaborn as sns\n",
    "import matplotlib.pyplot as plt"
   ]
  },
  {
   "cell_type": "markdown",
   "metadata": {},
   "source": [
    "# Datastreamer"
   ]
  },
  {
   "cell_type": "code",
   "execution_count": 2,
   "metadata": {},
   "outputs": [
    {
     "name": "stderr",
     "output_type": "stream",
     "text": [
      "\u001b[32m2023-12-17 08:36:13.187\u001b[0m | \u001b[1mINFO    \u001b[0m | \u001b[36mmads_datasets.base\u001b[0m:\u001b[36mdownload_data\u001b[0m:\u001b[36m121\u001b[0m - \u001b[1mFolder already exists at /home/azureuser/.cache/mads_datasets/fashionmnist\u001b[0m\n",
      "\u001b[32m2023-12-17 08:36:13.188\u001b[0m | \u001b[1mINFO    \u001b[0m | \u001b[36mmads_datasets.base\u001b[0m:\u001b[36mdownload_data\u001b[0m:\u001b[36m124\u001b[0m - \u001b[1mFile already exists at /home/azureuser/.cache/mads_datasets/fashionmnist/fashionmnist.pt\u001b[0m\n"
     ]
    }
   ],
   "source": [
    "datafactory = DatasetFactoryProvider.create_factory(DatasetType.FASHION)\n",
    "batchsize = 64\n",
    "preprocessor = BasePreprocessor()\n",
    "streamers = datafactory.create_datastreamer(batchsize=batchsize, preprocessor=preprocessor)\n",
    "train = streamers[\"train\"]\n",
    "valid = streamers[\"valid\"]\n",
    "train_streamer = train.stream()\n",
    "valid_streamer = valid.stream()"
   ]
  },
  {
   "cell_type": "markdown",
   "metadata": {},
   "source": [
    "# Model"
   ]
  },
  {
   "cell_type": "code",
   "execution_count": 27,
   "metadata": {},
   "outputs": [
    {
     "name": "stdout",
     "output_type": "stream",
     "text": [
      "Model training takes place on the cpu\n"
     ]
    }
   ],
   "source": [
    "# Although this program will likely only run on the vm,\n",
    "# and the vm lacks gpu support, a gpu check is added in case the\n",
    "# program is ran outside of the vm.\n",
    "\n",
    "device = \"gpu\" if torch.cuda.is_available() else \"cpu\"\n",
    "print(f\"Model training takes place on the {device}\")\n",
    "\n",
    "\n",
    "class CNN(nn.Module):\n",
    "    def __init__(\n",
    "        self,\n",
    "        layers: int,\n",
    "        filters: int,\n",
    "        units: int,\n",
    "        normalization: bool = False,\n",
    "        dropout: float = 0.0,\n",
    "        input_size: tuple = (32, 1, 28, 28),\n",
    "    ):\n",
    "        super().__init__()\n",
    "\n",
    "        self.convolutional_blocks = nn.ModuleList()\n",
    "        for i in range(1, layers):\n",
    "            first = i == 1\n",
    "            self.convolutional_blocks.append(\n",
    "                self._generate_convolutional_layer(filters=filters, normalization=normalization, first=first)\n",
    "            )\n",
    "\n",
    "        # In order to solve the potential problem of connecting the image layers\n",
    "        # with the linear layers, an AvgPool2d is added based on the size of the\n",
    "        # activationmap from the convolutional layers.\n",
    "        # Resulting in (batch, activationmaps, 1, 1) before flattening.\n",
    "        activaton_map_size = self._conv_test(input_size)\n",
    "        self.aggregated_layer = nn.AvgPool2d(activaton_map_size)\n",
    "\n",
    "        self.linear_blocks = nn.ModuleList()\n",
    "        for i in range(1, layers):\n",
    "            first = i == 1\n",
    "            last = i == (layers - 1)\n",
    "            self.linear_blocks.append(\n",
    "                self._generate_linear_layers(\n",
    "                    filters=filters,\n",
    "                    units=units,\n",
    "                    dropout=dropout,\n",
    "                    normalization=normalization,\n",
    "                    first=first,\n",
    "                    last=last,\n",
    "                )\n",
    "            )\n",
    "\n",
    "    def _generate_convolutional_layer(\n",
    "        self,\n",
    "        filters: int, normalization: bool = False, first: bool = False\n",
    "    ) -> nn.Sequential:\n",
    "        in_channels = 1 if first else filters\n",
    "        layers = []\n",
    "        layers.append(nn.Conv2d(in_channels, filters, kernel_size=3))\n",
    "        layers.append(nn.BatchNorm2d(filters)) if normalization else None\n",
    "        layers.append(nn.ReLU())\n",
    "        layers.append(nn.MaxPool2d(kernel_size=2))\n",
    "        return nn.Sequential(*layers)\n",
    "\n",
    "    def _conv_test(self, input_size):\n",
    "        x = torch.ones(input_size)\n",
    "        for block in self.convolutional_blocks:\n",
    "            x = block(x)\n",
    "        return x.shape[-2:]\n",
    "\n",
    "    def _generate_linear_layers(\n",
    "        self,\n",
    "        filters: int,\n",
    "        units: int,\n",
    "        dropout: float = 0.0,\n",
    "        normalization: bool = False,\n",
    "        first: bool = False,\n",
    "        last: bool = False,\n",
    "    ) -> nn.Sequential:\n",
    "        in_features = filters if first else units\n",
    "        out_features = 10 if last else units\n",
    "        layers = []\n",
    "        layers.append(nn.Flatten()) if first else None\n",
    "        layers.append(nn.Dropout1d(dropout)) if dropout != 0.0 and last else None\n",
    "        layers.append(nn.Linear(in_features, out_features))\n",
    "        layers.append(nn.BatchNorm1d(units)) if normalization and not last else None\n",
    "        layers.append(nn.ReLU()) if not last else None\n",
    "        return nn.Sequential(*layers)\n",
    "\n",
    "    def forward(self, x):\n",
    "        for block in self.convolutional_blocks:\n",
    "            x = block(x)\n",
    "        x = self.aggregated_layer(x)\n",
    "        for block in self.linear_blocks:\n",
    "            x = block(x)\n",
    "        return x\n",
    "\n",
    "\n",
    "model = CNN(layers=2, filters=32, units=32, dropout=0.2).to(device)\n"
   ]
  },
  {
   "cell_type": "markdown",
   "metadata": {},
   "source": [
    "# Optimizer, loss & accuracy"
   ]
  },
  {
   "cell_type": "code",
   "execution_count": 17,
   "metadata": {},
   "outputs": [],
   "source": [
    "optimizer = optim.Adam\n",
    "loss_function = torch.nn.CrossEntropyLoss()\n",
    "accuracy = metrics.Accuracy()"
   ]
  },
  {
   "cell_type": "markdown",
   "metadata": {},
   "source": [
    "# MLflow"
   ]
  },
  {
   "cell_type": "code",
   "execution_count": 19,
   "metadata": {},
   "outputs": [
    {
     "name": "stderr",
     "output_type": "stream",
     "text": [
      "2023/12/17 11:22:45 INFO mlflow.tracking.fluent: Experiment with name 'MNIST_CNN' does not exist. Creating a new experiment.\n"
     ]
    },
    {
     "data": {
      "text/plain": [
       "<Experiment: artifact_location='/home/azureuser/code/ADS-DeepLearning-project/hyper_parameter_exercise/notebook/mlruns/3', creation_time=1702812165353, experiment_id='3', last_update_time=1702812165353, lifecycle_stage='active', name='MNIST_CNN', tags={}>"
      ]
     },
     "execution_count": 19,
     "metadata": {},
     "output_type": "execute_result"
    }
   ],
   "source": [
    "experiment_path = \"MNIST_CNN\"\n",
    "mlflow.set_tracking_uri(\"sqlite:///mlflow.db\")\n",
    "mlflow.set_experiment(experiment_path)"
   ]
  },
  {
   "cell_type": "code",
   "execution_count": 20,
   "metadata": {},
   "outputs": [],
   "source": [
    "model_directory = Path(\"../../models/mnist\").resolve()\n",
    "if not model_directory.exists():\n",
    "    model_directory.mkdir(parents=True)\n",
    "    print(f\"Created {model_directory}\")"
   ]
  },
  {
   "cell_type": "code",
   "execution_count": 24,
   "metadata": {},
   "outputs": [],
   "source": [
    "trainer_settings = TrainerSettings(\n",
    "    epochs=3,\n",
    "    metrics=[accuracy],\n",
    "    logdir=\"modellog\",\n",
    "    train_steps=100,\n",
    "    valid_steps=100,\n",
    "    reporttypes=[ReportTypes.MLFLOW]\n",
    ")\n",
    "\n",
    "def objective(params):\n",
    "    with mlflow.start_run():\n",
    "        mlflow.set_tag(\"model\", \"convolutional_network\")\n",
    "        mlflow.set_tag(\"dev\", \"tom\")\n",
    "        mlflow.log_params(params)\n",
    "        mlflow.log_param(\"batchsize\", f\"{batchsize}\")\n",
    "\n",
    "        model = CNN(**params)\n",
    "        trainer = Trainer(\n",
    "            model=model,\n",
    "            settings=trainer_settings,\n",
    "            loss_fn=loss_function,\n",
    "            optimizer=optimizer,\n",
    "            traindataloader=train_streamer,\n",
    "            validdataloader=valid_streamer,\n",
    "            scheduler=optim.lr_scheduler.ReduceLROnPlateau\n",
    "        )\n",
    "        trainer.loop()\n",
    "\n",
    "        tag = datetime.now().strftime(\"%Y%m%d-%H%M\")\n",
    "        model_path = model_directory / (tag + \"model.pt\")\n",
    "        torch.save(model, model_path)\n",
    "\n",
    "        mlflow.log_artifact(local_path=model_path, artifact_path=\"pytorch_models\")\n",
    "        \n",
    "        return {\"loss\": trainer.test_loss, \"status\": STATUS_OK}"
   ]
  },
  {
   "cell_type": "code",
   "execution_count": 32,
   "metadata": {},
   "outputs": [],
   "source": [
    "search_space = {\n",
    "    \"layers\": scope.int(hp.quniform(\"layers\", 2, 5, 1)),\n",
    "    \"units\": scope.int(hp.quniform(\"units\", 32, 128, 8)),\n",
    "    \"filters\": 32,\n",
    "}"
   ]
  },
  {
   "cell_type": "code",
   "execution_count": 33,
   "metadata": {},
   "outputs": [
    {
     "name": "stdout",
     "output_type": "stream",
     "text": [
      "  0%|          | 0/3 [00:00<?, ?trial/s, best loss=?]"
     ]
    },
    {
     "name": "stderr",
     "output_type": "stream",
     "text": [
      "\u001b[32m2023-12-17 11:29:54.267\u001b[0m | \u001b[1mINFO    \u001b[0m | \u001b[36mmltrainer.trainer\u001b[0m:\u001b[36mdir_add_timestamp\u001b[0m:\u001b[36m29\u001b[0m - \u001b[1mLogging to modellog/20231217-112954\u001b[0m\n",
      "\u001b[32m2023-12-17 11:29:55.618\u001b[0m | \u001b[1mINFO    \u001b[0m | \u001b[36mmltrainer.trainer\u001b[0m:\u001b[36m__init__\u001b[0m:\u001b[36m65\u001b[0m - \u001b[1mFound earlystop_kwargs in settings.Set to None if you dont want earlystopping.\u001b[0m\n",
      "  0%|\u001b[38;2;30;71;6m          \u001b[0m| 0/3 [00:00<?, ?it/s]\n",
      "  0%|\u001b[38;2;30;71;6m          \u001b[0m| 0/100 [00:00<?, ?it/s]\u001b[A\n",
      "  1%|\u001b[38;2;30;71;6m1         \u001b[0m| 1/100 [00:00<00:34,  2.83it/s]\u001b[A\n",
      "  5%|\u001b[38;2;30;71;6m5         \u001b[0m| 5/100 [00:00<00:07, 13.35it/s]\u001b[A\n",
      " 10%|\u001b[38;2;30;71;6m#         \u001b[0m| 10/100 [00:00<00:03, 22.67it/s]\u001b[A\n",
      " 14%|\u001b[38;2;30;71;6m#4        \u001b[0m| 14/100 [00:00<00:03, 27.37it/s]\u001b[A\n",
      " 18%|\u001b[38;2;30;71;6m#8        \u001b[0m| 18/100 [00:00<00:02, 30.42it/s]\u001b[A\n",
      " 23%|\u001b[38;2;30;71;6m##3       \u001b[0m| 23/100 [00:00<00:02, 35.89it/s]\u001b[A\n",
      " 28%|\u001b[38;2;30;71;6m##8       \u001b[0m| 28/100 [00:00<00:01, 39.67it/s]\u001b[A\n",
      " 34%|\u001b[38;2;30;71;6m###4      \u001b[0m| 34/100 [00:01<00:01, 43.55it/s]\u001b[A\n",
      " 40%|\u001b[38;2;30;71;6m####      \u001b[0m| 40/100 [00:01<00:01, 45.85it/s]\u001b[A\n",
      " 45%|\u001b[38;2;30;71;6m####5     \u001b[0m| 45/100 [00:01<00:01, 46.31it/s]\u001b[A\n",
      " 51%|\u001b[38;2;30;71;6m#####1    \u001b[0m| 51/100 [00:01<00:01, 48.10it/s]\u001b[A\n",
      " 57%|\u001b[38;2;30;71;6m#####6    \u001b[0m| 57/100 [00:01<00:00, 49.77it/s]\u001b[A\n",
      " 63%|\u001b[38;2;30;71;6m######3   \u001b[0m| 63/100 [00:01<00:00, 46.21it/s]\u001b[A\n",
      " 69%|\u001b[38;2;30;71;6m######9   \u001b[0m| 69/100 [00:01<00:00, 48.10it/s]\u001b[A\n",
      " 75%|\u001b[38;2;30;71;6m#######5  \u001b[0m| 75/100 [00:01<00:00, 49.77it/s]\u001b[A\n",
      " 81%|\u001b[38;2;30;71;6m########1 \u001b[0m| 81/100 [00:02<00:00, 49.24it/s]\u001b[A\n",
      " 87%|\u001b[38;2;30;71;6m########7 \u001b[0m| 87/100 [00:02<00:00, 50.42it/s]\u001b[A\n",
      " 93%|\u001b[38;2;30;71;6m#########3\u001b[0m| 93/100 [00:02<00:00, 49.74it/s]\u001b[A\n",
      " 99%|\u001b[38;2;30;71;6m#########9\u001b[0m| 99/100 [00:02<00:00, 50.44it/s]\u001b[A\n",
      "100%|\u001b[38;2;30;71;6m##########\u001b[0m| 100/100 [00:02<00:00, 41.18it/s]\n",
      "\u001b[32m2023-12-17 11:29:59.476\u001b[0m | \u001b[1mINFO    \u001b[0m | \u001b[36mmltrainer.trainer\u001b[0m:\u001b[36mreport\u001b[0m:\u001b[36m171\u001b[0m - \u001b[1mEpoch 0 train 2.2901 test 2.2657 metric ['0.0942']\u001b[0m\n",
      " 33%|\u001b[38;2;30;71;6m###3      \u001b[0m| 1/3 [00:03<00:07,  3.85s/it]\n",
      "  0%|\u001b[38;2;30;71;6m          \u001b[0m| 0/100 [00:00<?, ?it/s]\u001b[A\n",
      "  5%|\u001b[38;2;30;71;6m5         \u001b[0m| 5/100 [00:00<00:02, 44.76it/s]\u001b[A\n",
      " 10%|\u001b[38;2;30;71;6m#         \u001b[0m| 10/100 [00:00<00:02, 39.35it/s]\u001b[A\n",
      " 14%|\u001b[38;2;30;71;6m#4        \u001b[0m| 14/100 [00:00<00:02, 39.57it/s]\u001b[A\n",
      " 19%|\u001b[38;2;30;71;6m#9        \u001b[0m| 19/100 [00:00<00:01, 42.78it/s]\u001b[A\n",
      " 24%|\u001b[38;2;30;71;6m##4       \u001b[0m| 24/100 [00:00<00:01, 44.23it/s]\u001b[A\n",
      " 29%|\u001b[38;2;30;71;6m##9       \u001b[0m| 29/100 [00:00<00:01, 43.72it/s]\u001b[A\n",
      " 34%|\u001b[38;2;30;71;6m###4      \u001b[0m| 34/100 [00:00<00:01, 43.23it/s]\u001b[A\n",
      " 39%|\u001b[38;2;30;71;6m###9      \u001b[0m| 39/100 [00:00<00:01, 43.44it/s]\u001b[A\n",
      " 44%|\u001b[38;2;30;71;6m####4     \u001b[0m| 44/100 [00:01<00:01, 44.28it/s]\u001b[A\n",
      " 49%|\u001b[38;2;30;71;6m####9     \u001b[0m| 49/100 [00:01<00:01, 39.76it/s]\u001b[A\n",
      " 54%|\u001b[38;2;30;71;6m#####4    \u001b[0m| 54/100 [00:01<00:01, 38.72it/s]\u001b[A\n",
      " 59%|\u001b[38;2;30;71;6m#####8    \u001b[0m| 59/100 [00:01<00:01, 39.30it/s]\u001b[A\n",
      " 64%|\u001b[38;2;30;71;6m######4   \u001b[0m| 64/100 [00:01<00:00, 41.34it/s]\u001b[A\n",
      " 69%|\u001b[38;2;30;71;6m######9   \u001b[0m| 69/100 [00:01<00:00, 41.38it/s]\u001b[A\n",
      " 74%|\u001b[38;2;30;71;6m#######4  \u001b[0m| 74/100 [00:01<00:00, 41.14it/s]\u001b[A\n",
      " 79%|\u001b[38;2;30;71;6m#######9  \u001b[0m| 79/100 [00:01<00:00, 40.44it/s]\u001b[A\n",
      " 84%|\u001b[38;2;30;71;6m########4 \u001b[0m| 84/100 [00:02<00:00, 39.60it/s]\u001b[A\n",
      " 88%|\u001b[38;2;30;71;6m########8 \u001b[0m| 88/100 [00:02<00:00, 37.59it/s]\u001b[A\n",
      " 93%|\u001b[38;2;30;71;6m#########3\u001b[0m| 93/100 [00:02<00:00, 39.22it/s]\u001b[A\n",
      " 97%|\u001b[38;2;30;71;6m#########7\u001b[0m| 97/100 [00:02<00:00, 39.04it/s]\u001b[A\n",
      "100%|\u001b[38;2;30;71;6m##########\u001b[0m| 100/100 [00:02<00:00, 40.64it/s]\n",
      "\u001b[32m2023-12-17 11:30:03.308\u001b[0m | \u001b[1mINFO    \u001b[0m | \u001b[36mmltrainer.trainer\u001b[0m:\u001b[36mreport\u001b[0m:\u001b[36m171\u001b[0m - \u001b[1mEpoch 1 train 2.2346 test 2.2016 metric ['0.1750']\u001b[0m\n",
      " 67%|\u001b[38;2;30;71;6m######6   \u001b[0m| 2/3 [00:07<00:03,  3.84s/it]\n",
      "  0%|\u001b[38;2;30;71;6m          \u001b[0m| 0/100 [00:00<?, ?it/s]\u001b[A\n",
      "  5%|\u001b[38;2;30;71;6m5         \u001b[0m| 5/100 [00:00<00:02, 44.56it/s]\u001b[A\n",
      " 10%|\u001b[38;2;30;71;6m#         \u001b[0m| 10/100 [00:00<00:01, 46.30it/s]\u001b[A\n",
      " 15%|\u001b[38;2;30;71;6m#5        \u001b[0m| 15/100 [00:00<00:01, 45.53it/s]\u001b[A\n",
      " 20%|\u001b[38;2;30;71;6m##        \u001b[0m| 20/100 [00:00<00:01, 44.75it/s]\u001b[A\n",
      " 25%|\u001b[38;2;30;71;6m##5       \u001b[0m| 25/100 [00:00<00:01, 43.31it/s]\u001b[A\n",
      " 30%|\u001b[38;2;30;71;6m###       \u001b[0m| 30/100 [00:00<00:01, 43.29it/s]\u001b[A\n",
      " 35%|\u001b[38;2;30;71;6m###5      \u001b[0m| 35/100 [00:00<00:01, 44.55it/s]\u001b[A\n",
      " 40%|\u001b[38;2;30;71;6m####      \u001b[0m| 40/100 [00:00<00:01, 42.52it/s]\u001b[A\n",
      " 45%|\u001b[38;2;30;71;6m####5     \u001b[0m| 45/100 [00:01<00:01, 43.93it/s]\u001b[A\n",
      " 50%|\u001b[38;2;30;71;6m#####     \u001b[0m| 50/100 [00:01<00:01, 44.00it/s]\u001b[A\n",
      " 55%|\u001b[38;2;30;71;6m#####5    \u001b[0m| 55/100 [00:01<00:01, 44.85it/s]\u001b[A\n",
      " 60%|\u001b[38;2;30;71;6m######    \u001b[0m| 60/100 [00:01<00:00, 44.58it/s]\u001b[A\n",
      " 65%|\u001b[38;2;30;71;6m######5   \u001b[0m| 65/100 [00:01<00:00, 44.21it/s]\u001b[A\n",
      " 70%|\u001b[38;2;30;71;6m#######   \u001b[0m| 70/100 [00:01<00:00, 45.50it/s]\u001b[A\n",
      " 75%|\u001b[38;2;30;71;6m#######5  \u001b[0m| 75/100 [00:01<00:00, 46.01it/s]\u001b[A\n",
      " 80%|\u001b[38;2;30;71;6m########  \u001b[0m| 80/100 [00:01<00:00, 45.72it/s]\u001b[A\n",
      " 85%|\u001b[38;2;30;71;6m########5 \u001b[0m| 85/100 [00:01<00:00, 45.53it/s]\u001b[A\n",
      " 90%|\u001b[38;2;30;71;6m######### \u001b[0m| 90/100 [00:02<00:00, 45.60it/s]\u001b[A\n",
      " 95%|\u001b[38;2;30;71;6m#########5\u001b[0m| 95/100 [00:02<00:00, 46.14it/s]\u001b[A\n",
      "100%|\u001b[38;2;30;71;6m##########\u001b[0m| 100/100 [00:02<00:00, 46.68it/s]\u001b[A\n",
      "100%|\u001b[38;2;30;71;6m##########\u001b[0m| 100/100 [00:02<00:00, 44.99it/s]\n",
      "\u001b[32m2023-12-17 11:30:06.949\u001b[0m | \u001b[1mINFO    \u001b[0m | \u001b[36mmltrainer.trainer\u001b[0m:\u001b[36mreport\u001b[0m:\u001b[36m171\u001b[0m - \u001b[1mEpoch 2 train 2.1595 test 2.1146 metric ['0.2955']\u001b[0m\n",
      "100%|\u001b[38;2;30;71;6m##########\u001b[0m| 3/3 [00:11<00:00,  3.75s/it]\n",
      "100%|\u001b[38;2;30;71;6m##########\u001b[0m| 3/3 [00:11<00:00,  3.78s/it]\n"
     ]
    },
    {
     "name": "stdout",
     "output_type": "stream",
     "text": [
      " 33%|███▎      | 1/3 [00:13<00:26, 13.11s/trial, best loss: 2.1145686292648316]"
     ]
    },
    {
     "name": "stderr",
     "output_type": "stream",
     "text": [
      "\u001b[32m2023-12-17 11:30:07.181\u001b[0m | \u001b[1mINFO    \u001b[0m | \u001b[36mmltrainer.trainer\u001b[0m:\u001b[36mdir_add_timestamp\u001b[0m:\u001b[36m29\u001b[0m - \u001b[1mLogging to modellog/20231217-113007\u001b[0m\n",
      "\u001b[32m2023-12-17 11:30:07.185\u001b[0m | \u001b[1mINFO    \u001b[0m | \u001b[36mmltrainer.trainer\u001b[0m:\u001b[36m__init__\u001b[0m:\u001b[36m65\u001b[0m - \u001b[1mFound earlystop_kwargs in settings.Set to None if you dont want earlystopping.\u001b[0m\n",
      "  0%|\u001b[38;2;30;71;6m          \u001b[0m| 0/3 [00:00<?, ?it/s]\n",
      "  0%|\u001b[38;2;30;71;6m          \u001b[0m| 0/100 [00:00<?, ?it/s]\u001b[A\n",
      "  2%|\u001b[38;2;30;71;6m2         \u001b[0m| 2/100 [00:00<00:04, 19.88it/s]\u001b[A\n",
      "  5%|\u001b[38;2;30;71;6m5         \u001b[0m| 5/100 [00:00<00:03, 25.43it/s]\u001b[A\n",
      "  8%|\u001b[38;2;30;71;6m8         \u001b[0m| 8/100 [00:00<00:03, 25.94it/s]\u001b[A\n",
      " 11%|\u001b[38;2;30;71;6m#1        \u001b[0m| 11/100 [00:00<00:03, 27.02it/s]\u001b[A\n",
      " 15%|\u001b[38;2;30;71;6m#5        \u001b[0m| 15/100 [00:00<00:02, 30.59it/s]\u001b[A\n",
      " 19%|\u001b[38;2;30;71;6m#9        \u001b[0m| 19/100 [00:00<00:02, 32.14it/s]\u001b[A\n",
      " 23%|\u001b[38;2;30;71;6m##3       \u001b[0m| 23/100 [00:00<00:02, 31.35it/s]\u001b[A\n",
      " 27%|\u001b[38;2;30;71;6m##7       \u001b[0m| 27/100 [00:00<00:02, 32.84it/s]\u001b[A\n",
      " 31%|\u001b[38;2;30;71;6m###1      \u001b[0m| 31/100 [00:00<00:02, 34.44it/s]\u001b[A\n",
      " 35%|\u001b[38;2;30;71;6m###5      \u001b[0m| 35/100 [00:01<00:01, 35.54it/s]\u001b[A\n",
      " 39%|\u001b[38;2;30;71;6m###9      \u001b[0m| 39/100 [00:01<00:01, 35.93it/s]\u001b[A\n",
      " 44%|\u001b[38;2;30;71;6m####4     \u001b[0m| 44/100 [00:01<00:01, 37.80it/s]\u001b[A\n",
      " 49%|\u001b[38;2;30;71;6m####9     \u001b[0m| 49/100 [00:01<00:01, 38.72it/s]\u001b[A\n",
      " 54%|\u001b[38;2;30;71;6m#####4    \u001b[0m| 54/100 [00:01<00:01, 39.65it/s]\u001b[A\n",
      " 59%|\u001b[38;2;30;71;6m#####8    \u001b[0m| 59/100 [00:01<00:01, 40.10it/s]\u001b[A\n",
      " 64%|\u001b[38;2;30;71;6m######4   \u001b[0m| 64/100 [00:01<00:00, 40.54it/s]\u001b[A\n",
      " 69%|\u001b[38;2;30;71;6m######9   \u001b[0m| 69/100 [00:01<00:00, 40.45it/s]\u001b[A\n",
      " 74%|\u001b[38;2;30;71;6m#######4  \u001b[0m| 74/100 [00:02<00:00, 39.31it/s]\u001b[A\n",
      " 78%|\u001b[38;2;30;71;6m#######8  \u001b[0m| 78/100 [00:02<00:00, 38.77it/s]\u001b[A\n",
      " 83%|\u001b[38;2;30;71;6m########2 \u001b[0m| 83/100 [00:02<00:00, 39.50it/s]\u001b[A\n",
      " 88%|\u001b[38;2;30;71;6m########8 \u001b[0m| 88/100 [00:02<00:00, 39.73it/s]\u001b[A\n",
      " 92%|\u001b[38;2;30;71;6m#########2\u001b[0m| 92/100 [00:02<00:00, 38.43it/s]\u001b[A\n",
      " 96%|\u001b[38;2;30;71;6m#########6\u001b[0m| 96/100 [00:02<00:00, 36.68it/s]\u001b[A\n",
      "100%|\u001b[38;2;30;71;6m##########\u001b[0m| 100/100 [00:02<00:00, 36.19it/s]\u001b[A\n",
      "100%|\u001b[38;2;30;71;6m##########\u001b[0m| 100/100 [00:02<00:00, 36.01it/s]\n",
      "\u001b[32m2023-12-17 11:30:11.635\u001b[0m | \u001b[1mINFO    \u001b[0m | \u001b[36mmltrainer.trainer\u001b[0m:\u001b[36mreport\u001b[0m:\u001b[36m171\u001b[0m - \u001b[1mEpoch 0 train 2.0936 test 1.7418 metric ['0.4225']\u001b[0m\n",
      " 33%|\u001b[38;2;30;71;6m###3      \u001b[0m| 1/3 [00:04<00:08,  4.44s/it]\n",
      "  0%|\u001b[38;2;30;71;6m          \u001b[0m| 0/100 [00:00<?, ?it/s]\u001b[A\n",
      "  4%|\u001b[38;2;30;71;6m4         \u001b[0m| 4/100 [00:00<00:02, 37.62it/s]\u001b[A\n",
      "  8%|\u001b[38;2;30;71;6m8         \u001b[0m| 8/100 [00:00<00:02, 36.84it/s]\u001b[A\n",
      " 12%|\u001b[38;2;30;71;6m#2        \u001b[0m| 12/100 [00:00<00:02, 36.79it/s]\u001b[A\n",
      " 16%|\u001b[38;2;30;71;6m#6        \u001b[0m| 16/100 [00:00<00:02, 37.29it/s]\u001b[A\n",
      " 20%|\u001b[38;2;30;71;6m##        \u001b[0m| 20/100 [00:00<00:02, 37.42it/s]\u001b[A\n",
      " 24%|\u001b[38;2;30;71;6m##4       \u001b[0m| 24/100 [00:00<00:02, 37.34it/s]\u001b[A\n",
      " 28%|\u001b[38;2;30;71;6m##8       \u001b[0m| 28/100 [00:00<00:01, 37.92it/s]\u001b[A\n",
      " 32%|\u001b[38;2;30;71;6m###2      \u001b[0m| 32/100 [00:00<00:01, 38.54it/s]\u001b[A\n",
      " 36%|\u001b[38;2;30;71;6m###6      \u001b[0m| 36/100 [00:00<00:01, 38.69it/s]\u001b[A\n",
      " 40%|\u001b[38;2;30;71;6m####      \u001b[0m| 40/100 [00:01<00:01, 37.73it/s]\u001b[A\n",
      " 44%|\u001b[38;2;30;71;6m####4     \u001b[0m| 44/100 [00:01<00:01, 38.03it/s]\u001b[A\n",
      " 48%|\u001b[38;2;30;71;6m####8     \u001b[0m| 48/100 [00:01<00:01, 37.19it/s]\u001b[A\n",
      " 52%|\u001b[38;2;30;71;6m#####2    \u001b[0m| 52/100 [00:01<00:01, 36.08it/s]\u001b[A\n",
      " 56%|\u001b[38;2;30;71;6m#####6    \u001b[0m| 56/100 [00:01<00:01, 35.53it/s]\u001b[A\n",
      " 60%|\u001b[38;2;30;71;6m######    \u001b[0m| 60/100 [00:01<00:01, 35.05it/s]\u001b[A\n",
      " 64%|\u001b[38;2;30;71;6m######4   \u001b[0m| 64/100 [00:01<00:01, 34.49it/s]\u001b[A\n",
      " 68%|\u001b[38;2;30;71;6m######8   \u001b[0m| 68/100 [00:01<00:00, 34.82it/s]\u001b[A\n",
      " 72%|\u001b[38;2;30;71;6m#######2  \u001b[0m| 72/100 [00:01<00:00, 35.23it/s]\u001b[A\n",
      " 76%|\u001b[38;2;30;71;6m#######6  \u001b[0m| 76/100 [00:02<00:00, 36.06it/s]\u001b[A\n",
      " 80%|\u001b[38;2;30;71;6m########  \u001b[0m| 80/100 [00:02<00:00, 35.95it/s]\u001b[A\n",
      " 84%|\u001b[38;2;30;71;6m########4 \u001b[0m| 84/100 [00:02<00:00, 36.69it/s]\u001b[A\n",
      " 88%|\u001b[38;2;30;71;6m########8 \u001b[0m| 88/100 [00:02<00:00, 37.12it/s]\u001b[A\n",
      " 92%|\u001b[38;2;30;71;6m#########2\u001b[0m| 92/100 [00:02<00:00, 37.09it/s]\u001b[A\n",
      " 96%|\u001b[38;2;30;71;6m#########6\u001b[0m| 96/100 [00:02<00:00, 36.80it/s]\u001b[A\n",
      "100%|\u001b[38;2;30;71;6m##########\u001b[0m| 100/100 [00:02<00:00, 37.12it/s]\u001b[A\n",
      "100%|\u001b[38;2;30;71;6m##########\u001b[0m| 100/100 [00:02<00:00, 36.67it/s]\n",
      "\u001b[32m2023-12-17 11:30:16.042\u001b[0m | \u001b[1mINFO    \u001b[0m | \u001b[36mmltrainer.trainer\u001b[0m:\u001b[36mreport\u001b[0m:\u001b[36m171\u001b[0m - \u001b[1mEpoch 1 train 1.4797 test 1.2585 metric ['0.4953']\u001b[0m\n",
      " 67%|\u001b[38;2;30;71;6m######6   \u001b[0m| 2/3 [00:08<00:04,  4.42s/it]\n",
      "  0%|\u001b[38;2;30;71;6m          \u001b[0m| 0/100 [00:00<?, ?it/s]\u001b[A\n",
      "  4%|\u001b[38;2;30;71;6m4         \u001b[0m| 4/100 [00:00<00:03, 31.93it/s]\u001b[A\n",
      "  8%|\u001b[38;2;30;71;6m8         \u001b[0m| 8/100 [00:00<00:03, 30.04it/s]\u001b[A\n",
      " 12%|\u001b[38;2;30;71;6m#2        \u001b[0m| 12/100 [00:00<00:02, 31.35it/s]\u001b[A\n",
      " 16%|\u001b[38;2;30;71;6m#6        \u001b[0m| 16/100 [00:00<00:02, 33.23it/s]\u001b[A\n",
      " 20%|\u001b[38;2;30;71;6m##        \u001b[0m| 20/100 [00:00<00:02, 30.18it/s]\u001b[A\n",
      " 24%|\u001b[38;2;30;71;6m##4       \u001b[0m| 24/100 [00:00<00:02, 31.00it/s]\u001b[A\n",
      " 28%|\u001b[38;2;30;71;6m##8       \u001b[0m| 28/100 [00:00<00:02, 32.04it/s]\u001b[A\n",
      " 32%|\u001b[38;2;30;71;6m###2      \u001b[0m| 32/100 [00:01<00:02, 32.65it/s]\u001b[A\n",
      " 36%|\u001b[38;2;30;71;6m###6      \u001b[0m| 36/100 [00:01<00:01, 33.24it/s]\u001b[A\n",
      " 40%|\u001b[38;2;30;71;6m####      \u001b[0m| 40/100 [00:01<00:01, 33.77it/s]\u001b[A\n",
      " 44%|\u001b[38;2;30;71;6m####4     \u001b[0m| 44/100 [00:01<00:01, 34.18it/s]\u001b[A\n",
      " 48%|\u001b[38;2;30;71;6m####8     \u001b[0m| 48/100 [00:01<00:01, 34.52it/s]\u001b[A\n",
      " 52%|\u001b[38;2;30;71;6m#####2    \u001b[0m| 52/100 [00:01<00:01, 35.47it/s]\u001b[A\n",
      " 56%|\u001b[38;2;30;71;6m#####6    \u001b[0m| 56/100 [00:01<00:01, 34.74it/s]\u001b[A\n",
      " 60%|\u001b[38;2;30;71;6m######    \u001b[0m| 60/100 [00:01<00:01, 34.65it/s]\u001b[A\n",
      " 64%|\u001b[38;2;30;71;6m######4   \u001b[0m| 64/100 [00:01<00:01, 32.07it/s]\u001b[A\n",
      " 68%|\u001b[38;2;30;71;6m######8   \u001b[0m| 68/100 [00:02<00:00, 32.57it/s]\u001b[A\n",
      " 72%|\u001b[38;2;30;71;6m#######2  \u001b[0m| 72/100 [00:02<00:00, 33.75it/s]\u001b[A\n",
      " 76%|\u001b[38;2;30;71;6m#######6  \u001b[0m| 76/100 [00:02<00:00, 35.02it/s]\u001b[A\n",
      " 80%|\u001b[38;2;30;71;6m########  \u001b[0m| 80/100 [00:02<00:00, 35.61it/s]\u001b[A\n",
      " 84%|\u001b[38;2;30;71;6m########4 \u001b[0m| 84/100 [00:02<00:00, 36.49it/s]\u001b[A\n",
      " 88%|\u001b[38;2;30;71;6m########8 \u001b[0m| 88/100 [00:02<00:00, 36.13it/s]\u001b[A\n",
      " 92%|\u001b[38;2;30;71;6m#########2\u001b[0m| 92/100 [00:02<00:00, 34.56it/s]\u001b[A\n",
      " 96%|\u001b[38;2;30;71;6m#########6\u001b[0m| 96/100 [00:02<00:00, 34.01it/s]\u001b[A\n",
      "100%|\u001b[38;2;30;71;6m##########\u001b[0m| 100/100 [00:02<00:00, 33.73it/s]\u001b[A\n",
      "100%|\u001b[38;2;30;71;6m##########\u001b[0m| 100/100 [00:02<00:00, 33.56it/s]\n",
      "\u001b[32m2023-12-17 11:30:20.667\u001b[0m | \u001b[1mINFO    \u001b[0m | \u001b[36mmltrainer.trainer\u001b[0m:\u001b[36mreport\u001b[0m:\u001b[36m171\u001b[0m - \u001b[1mEpoch 2 train 1.1268 test 1.2139 metric ['0.5337']\u001b[0m\n",
      "100%|\u001b[38;2;30;71;6m##########\u001b[0m| 3/3 [00:13<00:00,  4.51s/it]\n",
      "100%|\u001b[38;2;30;71;6m##########\u001b[0m| 3/3 [00:13<00:00,  4.49s/it]\n"
     ]
    },
    {
     "name": "stdout",
     "output_type": "stream",
     "text": [
      " 67%|██████▋   | 2/3 [00:26<00:13, 13.47s/trial, best loss: 1.2139101600646973]"
     ]
    },
    {
     "name": "stderr",
     "output_type": "stream",
     "text": [
      "\u001b[32m2023-12-17 11:30:20.864\u001b[0m | \u001b[1mINFO    \u001b[0m | \u001b[36mmltrainer.trainer\u001b[0m:\u001b[36mdir_add_timestamp\u001b[0m:\u001b[36m29\u001b[0m - \u001b[1mLogging to modellog/20231217-113020\u001b[0m\n",
      "\u001b[32m2023-12-17 11:30:20.866\u001b[0m | \u001b[1mINFO    \u001b[0m | \u001b[36mmltrainer.trainer\u001b[0m:\u001b[36m__init__\u001b[0m:\u001b[36m65\u001b[0m - \u001b[1mFound earlystop_kwargs in settings.Set to None if you dont want earlystopping.\u001b[0m\n",
      "  0%|\u001b[38;2;30;71;6m          \u001b[0m| 0/3 [00:00<?, ?it/s]\n",
      "  0%|\u001b[38;2;30;71;6m          \u001b[0m| 0/100 [00:00<?, ?it/s]\u001b[A\n",
      "  5%|\u001b[38;2;30;71;6m5         \u001b[0m| 5/100 [00:00<00:01, 47.76it/s]\u001b[A\n",
      " 10%|\u001b[38;2;30;71;6m#         \u001b[0m| 10/100 [00:00<00:01, 48.14it/s]\u001b[A\n",
      " 15%|\u001b[38;2;30;71;6m#5        \u001b[0m| 15/100 [00:00<00:01, 47.61it/s]\u001b[A\n",
      " 20%|\u001b[38;2;30;71;6m##        \u001b[0m| 20/100 [00:00<00:01, 46.97it/s]\u001b[A\n",
      " 25%|\u001b[38;2;30;71;6m##5       \u001b[0m| 25/100 [00:00<00:01, 42.24it/s]\u001b[A\n",
      " 30%|\u001b[38;2;30;71;6m###       \u001b[0m| 30/100 [00:00<00:01, 43.71it/s]\u001b[A\n",
      " 36%|\u001b[38;2;30;71;6m###6      \u001b[0m| 36/100 [00:00<00:01, 46.05it/s]\u001b[A\n",
      " 41%|\u001b[38;2;30;71;6m####1     \u001b[0m| 41/100 [00:00<00:01, 44.50it/s]\u001b[A\n",
      " 46%|\u001b[38;2;30;71;6m####6     \u001b[0m| 46/100 [00:01<00:01, 43.30it/s]\u001b[A\n",
      " 51%|\u001b[38;2;30;71;6m#####1    \u001b[0m| 51/100 [00:01<00:01, 42.89it/s]\u001b[A\n",
      " 57%|\u001b[38;2;30;71;6m#####6    \u001b[0m| 57/100 [00:01<00:00, 45.94it/s]\u001b[A\n",
      " 62%|\u001b[38;2;30;71;6m######2   \u001b[0m| 62/100 [00:01<00:00, 42.15it/s]\u001b[A\n",
      " 67%|\u001b[38;2;30;71;6m######7   \u001b[0m| 67/100 [00:01<00:00, 41.48it/s]\u001b[A\n",
      " 72%|\u001b[38;2;30;71;6m#######2  \u001b[0m| 72/100 [00:01<00:00, 43.49it/s]\u001b[A\n",
      " 77%|\u001b[38;2;30;71;6m#######7  \u001b[0m| 77/100 [00:01<00:00, 43.28it/s]\u001b[A\n",
      " 83%|\u001b[38;2;30;71;6m########2 \u001b[0m| 83/100 [00:01<00:00, 45.67it/s]\u001b[A\n",
      " 88%|\u001b[38;2;30;71;6m########8 \u001b[0m| 88/100 [00:01<00:00, 46.77it/s]\u001b[A\n",
      " 93%|\u001b[38;2;30;71;6m#########3\u001b[0m| 93/100 [00:02<00:00, 47.00it/s]\u001b[A\n",
      " 99%|\u001b[38;2;30;71;6m#########9\u001b[0m| 99/100 [00:02<00:00, 48.33it/s]\u001b[A\n",
      "100%|\u001b[38;2;30;71;6m##########\u001b[0m| 100/100 [00:02<00:00, 45.19it/s]\n",
      "\u001b[32m2023-12-17 11:30:24.458\u001b[0m | \u001b[1mINFO    \u001b[0m | \u001b[36mmltrainer.trainer\u001b[0m:\u001b[36mreport\u001b[0m:\u001b[36m171\u001b[0m - \u001b[1mEpoch 0 train 2.2893 test 2.2611 metric ['0.1119']\u001b[0m\n",
      " 33%|\u001b[38;2;30;71;6m###3      \u001b[0m| 1/3 [00:03<00:07,  3.59s/it]\n",
      "  0%|\u001b[38;2;30;71;6m          \u001b[0m| 0/100 [00:00<?, ?it/s]\u001b[A\n",
      "  6%|\u001b[38;2;30;71;6m6         \u001b[0m| 6/100 [00:00<00:01, 52.48it/s]\u001b[A\n",
      " 12%|\u001b[38;2;30;71;6m#2        \u001b[0m| 12/100 [00:00<00:01, 50.80it/s]\u001b[A\n",
      " 18%|\u001b[38;2;30;71;6m#8        \u001b[0m| 18/100 [00:00<00:01, 51.55it/s]\u001b[A\n",
      " 24%|\u001b[38;2;30;71;6m##4       \u001b[0m| 24/100 [00:00<00:01, 52.72it/s]\u001b[A\n",
      " 30%|\u001b[38;2;30;71;6m###       \u001b[0m| 30/100 [00:00<00:01, 52.26it/s]\u001b[A\n",
      " 36%|\u001b[38;2;30;71;6m###6      \u001b[0m| 36/100 [00:00<00:01, 51.70it/s]\u001b[A\n",
      " 42%|\u001b[38;2;30;71;6m####2     \u001b[0m| 42/100 [00:00<00:01, 51.91it/s]\u001b[A\n",
      " 48%|\u001b[38;2;30;71;6m####8     \u001b[0m| 48/100 [00:00<00:00, 52.51it/s]\u001b[A\n",
      " 54%|\u001b[38;2;30;71;6m#####4    \u001b[0m| 54/100 [00:01<00:00, 52.91it/s]\u001b[A\n",
      " 60%|\u001b[38;2;30;71;6m######    \u001b[0m| 60/100 [00:01<00:00, 54.45it/s]\u001b[A\n",
      " 66%|\u001b[38;2;30;71;6m######6   \u001b[0m| 66/100 [00:01<00:00, 55.58it/s]\u001b[A\n",
      " 72%|\u001b[38;2;30;71;6m#######2  \u001b[0m| 72/100 [00:01<00:00, 56.52it/s]\u001b[A\n",
      " 78%|\u001b[38;2;30;71;6m#######8  \u001b[0m| 78/100 [00:01<00:00, 57.28it/s]\u001b[A\n",
      " 84%|\u001b[38;2;30;71;6m########4 \u001b[0m| 84/100 [00:01<00:00, 56.13it/s]\u001b[A\n",
      " 90%|\u001b[38;2;30;71;6m######### \u001b[0m| 90/100 [00:01<00:00, 55.19it/s]\u001b[A\n",
      " 96%|\u001b[38;2;30;71;6m#########6\u001b[0m| 96/100 [00:01<00:00, 52.41it/s]\u001b[A\n",
      "100%|\u001b[38;2;30;71;6m##########\u001b[0m| 100/100 [00:01<00:00, 53.49it/s]\n",
      "\u001b[32m2023-12-17 11:30:27.660\u001b[0m | \u001b[1mINFO    \u001b[0m | \u001b[36mmltrainer.trainer\u001b[0m:\u001b[36mreport\u001b[0m:\u001b[36m171\u001b[0m - \u001b[1mEpoch 1 train 2.2299 test 2.1879 metric ['0.2352']\u001b[0m\n",
      " 67%|\u001b[38;2;30;71;6m######6   \u001b[0m| 2/3 [00:06<00:03,  3.36s/it]\n",
      "  0%|\u001b[38;2;30;71;6m          \u001b[0m| 0/100 [00:00<?, ?it/s]\u001b[A\n",
      "  5%|\u001b[38;2;30;71;6m5         \u001b[0m| 5/100 [00:00<00:01, 49.87it/s]\u001b[A\n",
      " 11%|\u001b[38;2;30;71;6m#1        \u001b[0m| 11/100 [00:00<00:01, 50.74it/s]\u001b[A\n",
      " 17%|\u001b[38;2;30;71;6m#7        \u001b[0m| 17/100 [00:00<00:01, 51.39it/s]\u001b[A\n",
      " 23%|\u001b[38;2;30;71;6m##3       \u001b[0m| 23/100 [00:00<00:01, 49.41it/s]\u001b[A\n",
      " 28%|\u001b[38;2;30;71;6m##8       \u001b[0m| 28/100 [00:00<00:01, 49.12it/s]\u001b[A\n",
      " 34%|\u001b[38;2;30;71;6m###4      \u001b[0m| 34/100 [00:00<00:01, 50.72it/s]\u001b[A\n",
      " 40%|\u001b[38;2;30;71;6m####      \u001b[0m| 40/100 [00:00<00:01, 51.48it/s]\u001b[A\n",
      " 46%|\u001b[38;2;30;71;6m####6     \u001b[0m| 46/100 [00:00<00:01, 51.46it/s]\u001b[A\n",
      " 52%|\u001b[38;2;30;71;6m#####2    \u001b[0m| 52/100 [00:01<00:00, 51.87it/s]\u001b[A\n",
      " 58%|\u001b[38;2;30;71;6m#####8    \u001b[0m| 58/100 [00:01<00:00, 52.15it/s]\u001b[A\n",
      " 64%|\u001b[38;2;30;71;6m######4   \u001b[0m| 64/100 [00:01<00:00, 52.47it/s]\u001b[A\n",
      " 70%|\u001b[38;2;30;71;6m#######   \u001b[0m| 70/100 [00:01<00:00, 52.53it/s]\u001b[A\n",
      " 76%|\u001b[38;2;30;71;6m#######6  \u001b[0m| 76/100 [00:01<00:00, 53.15it/s]\u001b[A\n",
      " 82%|\u001b[38;2;30;71;6m########2 \u001b[0m| 82/100 [00:01<00:00, 52.98it/s]\u001b[A\n",
      " 88%|\u001b[38;2;30;71;6m########8 \u001b[0m| 88/100 [00:01<00:00, 52.54it/s]\u001b[A\n",
      " 94%|\u001b[38;2;30;71;6m#########3\u001b[0m| 94/100 [00:01<00:00, 48.77it/s]\u001b[A\n",
      " 99%|\u001b[38;2;30;71;6m#########9\u001b[0m| 99/100 [00:01<00:00, 48.46it/s]\u001b[A\n",
      "100%|\u001b[38;2;30;71;6m##########\u001b[0m| 100/100 [00:01<00:00, 50.71it/s]\n",
      "\u001b[32m2023-12-17 11:30:31.146\u001b[0m | \u001b[1mINFO    \u001b[0m | \u001b[36mmltrainer.trainer\u001b[0m:\u001b[36mreport\u001b[0m:\u001b[36m171\u001b[0m - \u001b[1mEpoch 2 train 2.1440 test 2.0925 metric ['0.3500']\u001b[0m\n",
      "100%|\u001b[38;2;30;71;6m##########\u001b[0m| 3/3 [00:10<00:00,  3.42s/it]\n",
      "100%|\u001b[38;2;30;71;6m##########\u001b[0m| 3/3 [00:10<00:00,  3.43s/it]\n"
     ]
    },
    {
     "name": "stdout",
     "output_type": "stream",
     "text": [
      "100%|██████████| 3/3 [00:37<00:00, 12.44s/trial, best loss: 1.2139101600646973]\n"
     ]
    }
   ],
   "source": [
    "best_result = fmin(\n",
    "    fn=objective,\n",
    "    space=search_space,\n",
    "    algo=tpe.suggest,\n",
    "    max_evals=100,\n",
    "    trials=Trials()\n",
    ")"
   ]
  },
  {
   "cell_type": "code",
   "execution_count": 34,
   "metadata": {},
   "outputs": [
    {
     "data": {
      "text/plain": [
       "{'layers': 3.0, 'units': 88.0}"
      ]
     },
     "execution_count": 34,
     "metadata": {},
     "output_type": "execute_result"
    }
   ],
   "source": [
    "best_result"
   ]
  },
  {
   "cell_type": "code",
   "execution_count": 1,
   "metadata": {},
   "outputs": [
    {
     "ename": "NameError",
     "evalue": "name 'mlflow' is not defined",
     "output_type": "error",
     "traceback": [
      "\u001b[0;31m---------------------------------------------------------------------------\u001b[0m",
      "\u001b[0;31mNameError\u001b[0m                                 Traceback (most recent call last)",
      "Cell \u001b[0;32mIn[1], line 5\u001b[0m\n\u001b[1;32m      2\u001b[0m     runs \u001b[38;5;241m=\u001b[39m mlflow\u001b[38;5;241m.\u001b[39msearch_runs(experiment_ids\u001b[38;5;241m=\u001b[39m[experiment_name])\n\u001b[1;32m      3\u001b[0m     \u001b[38;5;28;01mreturn\u001b[39;00m runs\n\u001b[0;32m----> 5\u001b[0m mlflow_data \u001b[38;5;241m=\u001b[39m \u001b[43mread_mlflow_data\u001b[49m\u001b[43m(\u001b[49m\u001b[38;5;124;43m'\u001b[39;49m\u001b[38;5;124;43m2\u001b[39;49m\u001b[38;5;124;43m'\u001b[39;49m\u001b[43m)\u001b[49m\n\u001b[1;32m      7\u001b[0m \u001b[38;5;28;01mdef\u001b[39;00m \u001b[38;5;21mcreate_heatmap_data\u001b[39m(mlflow_data):\n\u001b[1;32m      8\u001b[0m     heatmap_data \u001b[38;5;241m=\u001b[39m mlflow_data[[\u001b[38;5;124m'\u001b[39m\u001b[38;5;124mparams.filters\u001b[39m\u001b[38;5;124m'\u001b[39m, \u001b[38;5;124m'\u001b[39m\u001b[38;5;124mparams.units1\u001b[39m\u001b[38;5;124m'\u001b[39m, \u001b[38;5;124m'\u001b[39m\u001b[38;5;124mmetrics.Loss/test\u001b[39m\u001b[38;5;124m'\u001b[39m]]\n",
      "Cell \u001b[0;32mIn[1], line 2\u001b[0m, in \u001b[0;36mread_mlflow_data\u001b[0;34m(experiment_name)\u001b[0m\n\u001b[1;32m      1\u001b[0m \u001b[38;5;28;01mdef\u001b[39;00m \u001b[38;5;21mread_mlflow_data\u001b[39m(experiment_name):\n\u001b[0;32m----> 2\u001b[0m     runs \u001b[38;5;241m=\u001b[39m \u001b[43mmlflow\u001b[49m\u001b[38;5;241m.\u001b[39msearch_runs(experiment_ids\u001b[38;5;241m=\u001b[39m[experiment_name])\n\u001b[1;32m      3\u001b[0m     \u001b[38;5;28;01mreturn\u001b[39;00m runs\n",
      "\u001b[0;31mNameError\u001b[0m: name 'mlflow' is not defined"
     ]
    }
   ],
   "source": [
    "def read_mlflow_data(experiment_name):\n",
    "    runs = mlflow.search_runs(experiment_ids=[experiment_name])\n",
    "    return runs\n",
    "\n",
    "mlflow_data = read_mlflow_data('2')\n",
    "\n",
    "def create_heatmap_data(mlflow_data):\n",
    "    heatmap_data = mlflow_data[['params.filters', 'params.units1', 'metrics.Loss/test']]\n",
    "    return heatmap_data\n",
    "\n",
    "def plot_heatmap(heatmap_data):\n",
    "    heatmap_pivot = heatmap_data.pivot(index='params.filters', columns='params.units1', values='metrics.Loss/test')\n",
    "    sns.heatmap(heatmap_pivot, annot=True, fmt=\".4f\", cmap=\"YlGnBu\")\n",
    "    plt.xlabel('Units')\n",
    "    plt.ylabel('Dropout')\n",
    "    plt.title('Test loss as a function of Units vs Dropout')\n",
    "    plt.show()\n",
    "\n",
    "heatmap_data = create_heatmap_data(mlflow_data)\n",
    "plot_heatmap(heatmap_data)"
   ]
  }
 ],
 "metadata": {
  "kernelspec": {
   "display_name": ".venv",
   "language": "python",
   "name": "python3"
  },
  "language_info": {
   "codemirror_mode": {
    "name": "ipython",
    "version": 3
   },
   "file_extension": ".py",
   "mimetype": "text/x-python",
   "name": "python",
   "nbconvert_exporter": "python",
   "pygments_lexer": "ipython3",
   "version": "3.11.5"
  }
 },
 "nbformat": 4,
 "nbformat_minor": 2
}
