{
 "cells": [
  {
   "attachments": {},
   "cell_type": "markdown",
   "metadata": {},
   "source": [
    "# Hypertuning\n",
    "## Objective\n",
    "In hypertune.py, I have set up an example for hypertuning.\n",
    "Implement your own hypertuner for another model / dataset from scratch. \n",
    "\n",
    "- make sure your environment is reproducable\n",
    "    - dont blindly reuse the environment from the lessons; use a minimal environment.\n",
    "    - Check the [dependencies for mltrainer](https://github.com/raoulg/mltrainer/blob/main/pyproject.toml) to see whats already installed if you use mltrainer\n",
    "    - have a look at the pyproject.toml file from the course; \n",
    "        - `hpbandster` is for hyperband\n",
    "        - `bayesian-optimization` is for, well, bayesian optimization\n",
    "        - `hyperopt` is another hyperoptimalisation library which we have used in `2_convolutions/03_mlflow.ipynb`. It doesnt has as much algorithms as ray, which is why we use ray. Just know that `hyperopt` can be an alternative to `ray.tune` that's slightly easier to setup.\n",
    "        - I think `configspace` is for hyperopt, but I'm not sure; you will get an errormessage if you turn out to need it and dont have it.\n",
    "- make a function to pull your data into data/raw, you can use `mads_datasets` for this.\n",
    "- make a configurable model where you can change the different options from the config\n",
    "- build a hypertuner.py script\n",
    "- make notebooks that show other people how to use your project\n",
    "- Lint and format your code with black and ruff untill all your errors are gone.\n",
    "\n",
    "### data\n",
    "You could pick the fashionMNIST set if you want to work on that for your assignment,\n",
    "but you could also pick the flowers, other datasets from `mads_datasets` or even another set you like from [torchvision](https://pytorch.org/vision/0.8/datasets.html) or [torchtext](https://pytorch.org/text/stable/datasets.html#imdb).\n",
    "\n",
    "### Create a config\n",
    "You can use a simple dict to create a config.\n",
    "Other options are using `@dataclass` (see [docs.python.org](https://docs.python.org/3/library/dataclasses.html)) or [pydantic](https://docs.pydantic.dev/latest/)\n",
    "\n",
    "### Hypertune\n",
    "Run ray to hypertune your model. see notebook `03_ray.ipynb` for an example how to explore the results."
   ]
  },
  {
   "attachments": {},
   "cell_type": "markdown",
   "metadata": {},
   "source": [
    "# Common gotchas\n",
    "\n",
    "- you can't blindly copy paths. Always use `Path` and check if locations exist with `.exists()`\n",
    "- If you want to add your own `src` folder for import, you need to figure out if your `src` folder is located at the \"..\" or \"../..\" location, relative to your notebook for a `sys.path.insert(0, \"..\")` command (that is, if you need to explicitly add it because the notebook cant find your src folder)\n",
    "- same goes for datalocations. \"../../data/raw\" might have changed into \"../data/raw\" depending in your setup. `mads_datasets` uses `Path.home() / \".cache/mads_datasets\"` as a default location, so you can use that from every location.\n",
    "- While developing functions, you can:\n",
    "    1. Write the function in a .py file, and (re)load into a notebook if you change it. Note that ray tune can be problematic to run from inside a notebook.\n",
    "    2. Make a hypertune.py file and excecute from the command line. You will never have problems with reloading functions, because that is done every time you start up.\n",
    "- Build your own toml file with caution. Dont add stuff you dont need (e.g. you probably don't need shap, torchsummary or hyperopt). It's better to add later on if you miss something, than to add everything and get a bulky environment.\n",
    "- PRACTICE linting and formating (using a Makefile makes this easier). Black is simple, ruff too (it has a --fix argument to autofix issues), mypy takes more effort (because you need to typehint) but you will become a better programmer if you learn to think about the types of your input and output. Additionally mypy will catch possible errors that dont show up during a first run (but might show up later, with different input) "
   ]
  }
 ],
 "metadata": {
  "language_info": {
   "name": "python"
  }
 },
 "nbformat": 4,
 "nbformat_minor": 2
}
