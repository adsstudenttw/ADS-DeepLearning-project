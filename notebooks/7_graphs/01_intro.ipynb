{
 "cells": [
  {
   "cell_type": "code",
   "execution_count": null,
   "metadata": {},
   "outputs": [],
   "source": [
    "import networkx as nx  # this is already a dependency of torch 2.1.0\n",
    "import matplotlib.pyplot as plt\n",
    "import pandas as pd"
   ]
  },
  {
   "cell_type": "code",
   "execution_count": null,
   "metadata": {},
   "outputs": [],
   "source": [
    "\n",
    "# Creating a DataFrame with the families and their features\n",
    "families_data = {\n",
    "    'Family': ['Acciaiuoli', 'Medici', 'Castellani', 'Peruzzi', 'Strozzi',\n",
    "               'Barbadori', 'Ridolfi', 'Tornabuoni', 'Albizzi', 'Salviati',\n",
    "               'Pazzi', 'Bischeri', 'Guadagni', 'Ginori', 'Lamberteschi'],\n",
    "    'Rivalry/Alliance with Medici': ['Alliance', 'Alliance', 'Varied', 'Rivalry', 'Rivalry',\n",
    "                                     'Varied', 'Alliance', 'Alliance', 'Rivalry', 'Alliance',\n",
    "                                     'Rivalry', 'Varied', 'Varied', 'Varied', 'Varied'],\n",
    "    'Political Influence': ['Moderate', 'High', 'Moderate', 'High', 'High',\n",
    "                            'Low', 'Moderate', 'High', 'High', 'High',\n",
    "                            'High', 'Moderate', 'Moderate', 'Low', 'Low'],\n",
    "    'Central Role in Banking': ['Yes', 'Yes', 'No', 'Yes', 'Yes',\n",
    "                                'No', 'No', 'No', 'No', 'No',\n",
    "                                'No', 'No', 'No', 'No', 'No'],\n",
    "    'Notable Wealth': ['Yes', 'Yes', 'No', 'Yes', 'Yes',\n",
    "                       'No', 'No', 'Yes', 'Yes', 'Yes',\n",
    "                       'Yes', 'No', 'Yes', 'No', 'No']\n",
    "}\n",
    "\n",
    "# Creating the DataFrame\n",
    "families_df = pd.DataFrame(families_data)\n",
    "families_df"
   ]
  },
  {
   "cell_type": "code",
   "execution_count": null,
   "metadata": {},
   "outputs": [],
   "source": [
    "influence = {f:i for f, i in zip(families_df['Family'], families_df['Political Influence'])}\n",
    "wealth = {f:w for f, w in zip(families_df['Family'], families_df['Notable Wealth'])}\n",
    "rivalry = {f:r for f, r in zip(families_df['Family'], families_df['Rivalry/Alliance with Medici'])}"
   ]
  },
  {
   "cell_type": "code",
   "execution_count": null,
   "metadata": {},
   "outputs": [],
   "source": [
    "g.nodes()"
   ]
  },
  {
   "cell_type": "code",
   "execution_count": null,
   "metadata": {},
   "outputs": [],
   "source": [
    "g = nx.florentine_families_graph()\n",
    "pos = nx.spring_layout(g, seed=10)\n",
    "c=['red' if (x == 'Strozzi' or x == 'Medici') else 'grey' for x in list(g.nodes())]\n",
    "nx.draw(g, node_size=150, node_color=c, with_labels=True, pos=pos)"
   ]
  },
  {
   "cell_type": "code",
   "execution_count": null,
   "metadata": {},
   "outputs": [],
   "source": [
    "\n",
    "fig, ax = plt.subplots(1, 2, figsize=(14,6))\n",
    "pos = nx.spring_layout(g, seed=10)\n",
    "\n",
    "color_i = [\"purple\" if influence[node] == \"High\" else \"lightgrey\" for node in g.nodes()]\n",
    "color_r = [\"red\" if rivalry[node] == \"Rivalry\" else \"green\" if rivalry[node] == 'Alliance' else \"lightgrey\" for node in g.nodes()]\n",
    "nx.draw(g, node_size=150, node_color=color_i, with_labels=True, pos=pos, ax=ax[0])\n",
    "nx.draw(g, node_size=150, node_color=color_r, with_labels=True, pos=pos, ax=ax[1])\n",
    "ax[0].set_title(\"Political Influence\")\n",
    "ax[1].set_title(\"Rivalry/Alliance with Medici\")"
   ]
  },
  {
   "cell_type": "markdown",
   "metadata": {},
   "source": [
    "Betweenness centrality of a node is the sum of the fraction of all-pairs shortest paths that pass through v:\n",
    "\n",
    "$$cb(v) = \\Sigma_{s,t\\in V} \\frac{\\sigma(s,t|v)}{\\sigma(s,t)}$$\n",
    "\n",
    " \n",
    " \n",
    "where $V$ is the set of nodes, $\\sigma (s,t)$ is the number of shortest s,t-paths, and $\\sigma (s,t|v)$ is the number of those paths passing through some node \n",
    "$v$ other than s,t.\n",
    "\n",
    "Degree is the number of edges to the node: $$d_u = \\Sigma_{v \\in V} A[u,v]$$"
   ]
  },
  {
   "cell_type": "code",
   "execution_count": null,
   "metadata": {},
   "outputs": [],
   "source": [
    "deg = sorted(g.degree, key=lambda x: x[1], reverse=True)\n",
    "between = sorted(nx.betweenness_centrality(g).items(), key=lambda x: x[1], reverse=True)"
   ]
  },
  {
   "cell_type": "code",
   "execution_count": null,
   "metadata": {},
   "outputs": [],
   "source": [
    "fig, axs = plt.subplots(1,2, figsize=(12, 4))\n",
    "axs = axs.ravel()\n",
    "\n",
    "c1=['red' if (x[0] == 'Strozzi' or x[0] == 'Medici') else 'grey' for x in deg]\n",
    "c2=['red' if (x[0] == 'Strozzi' or x[0] == 'Medici') else 'grey' for x in between]\n",
    "\n",
    "axs[0].bar([x[0] for x in deg], [x[1] for x in deg], color=c1);\n",
    "axs[0].set_title('Degree')\n",
    "\n",
    "axs[1].bar([x[0] for x in between], [x[1] for x in between], color=c2);\n",
    "axs[1].set_title('Betweenness')\n",
    "\n",
    "for ax in axs:\n",
    "    ax.tick_params(axis='x', rotation=45)\n",
    "plt.suptitle(\"The            familily has a high degree but much lower betweenness centrality. \\n Betweenness is much more pronounced for \")\n",
    "plt.tight_layout()\n",
    "fig.text(0.28, 0.98, 'Strozzi', ha='center', va=\"top\", size=\"large\", color=\"red\")\n",
    "fig.text(0.675, 0.925, 'Medici', ha='center', va=\"top\", size=\"large\", color=\"red\")\n"
   ]
  },
  {
   "cell_type": "code",
   "execution_count": null,
   "metadata": {},
   "outputs": [],
   "source": [
    "clust = sorted(nx.clustering(g).items(), key=lambda x: x[1], reverse=True)"
   ]
  },
  {
   "cell_type": "code",
   "execution_count": null,
   "metadata": {},
   "outputs": [],
   "source": [
    "fig, axs = plt.subplots(1,2, figsize=(12, 4))\n",
    "axs = axs.ravel()\n",
    "\n",
    "# c1=['red' if x[0] == 'Peruzzi' else 'grey' for x in deg]\n",
    "# c2=['red' if x[0] == 'Peruzzi' else 'grey' for x in clust]\n",
    "c1=['red' if (x[0] == 'Strozzi' or x[0] == 'Medici') else 'grey' for x in deg]\n",
    "c2=['red' if (x[0] == 'Strozzi' or x[0] == 'Medici') else 'grey' for x in clust]\n",
    "\n",
    "axs[0].bar([x[0] for x in deg], [x[1] for x in deg], color=c1);\n",
    "axs[0].set_title('Degree')\n",
    "\n",
    "axs[1].bar([x[0] for x in clust], [x[1] for x in clust], color=c2);\n",
    "axs[1].set_title('Clustering coefficient')\n",
    "\n",
    "for ax in axs:\n",
    "    ax.tick_params(axis='x', rotation=45)\n",
    "plt.suptitle(\"The Medici family has a low clustering coefficient\")\n",
    "plt.tight_layout()"
   ]
  },
  {
   "cell_type": "code",
   "execution_count": null,
   "metadata": {},
   "outputs": [],
   "source": []
  }
 ],
 "metadata": {
  "kernelspec": {
   "display_name": ".venv",
   "language": "python",
   "name": "python3"
  },
  "language_info": {
   "codemirror_mode": {
    "name": "ipython",
    "version": 3
   },
   "file_extension": ".py",
   "mimetype": "text/x-python",
   "name": "python",
   "nbconvert_exporter": "python",
   "pygments_lexer": "ipython3",
   "version": "3.11.5"
  }
 },
 "nbformat": 4,
 "nbformat_minor": 2
}
